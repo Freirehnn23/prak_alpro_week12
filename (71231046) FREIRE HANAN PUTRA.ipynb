{
 "cells": [
  {
   "cell_type": "code",
   "execution_count": 1,
   "id": "bbf7e742",
   "metadata": {},
   "outputs": [
    {
     "name": "stdout",
     "output_type": "stream",
     "text": [
      "key   value   item \n",
      "------------------\n",
      "1     10      1    \n",
      "2     20      2    \n",
      "3     30      3    \n",
      "4     40      4    \n",
      "5     50      5    \n",
      "6     60      6    \n"
     ]
    }
   ],
   "source": [
    "dictionary = {1: 10, 2: 20, 3: 30, 4: 40, 5: 50, 6: 60}\n",
    "\n",
    "print(f\"{'key':<5} {'value':<7} {'item':<5}\")\n",
    "print(\"------------------\")\n",
    "\n",
    "for key, value in dictionary.items():\n",
    "    print(f\"{key:<5} {value:<7} {key:<5}\")\n"
   ]
  },
  {
   "cell_type": "code",
   "execution_count": 2,
   "id": "91bc4db6",
   "metadata": {},
   "outputs": [
    {
     "name": "stdout",
     "output_type": "stream",
     "text": [
      "{'red': '#FF0000', 'green': '#008000', 'blue': '#0000FF'}\n"
     ]
    }
   ],
   "source": [
    "Lista = ['red', 'green', 'blue']\n",
    "Listb = ['#FF0000', '#008000', '#0000FF']\n",
    "\n",
    "hasil = {}\n",
    "\n",
    "for i in range(len(Lista)):\n",
    "    hasil[Lista[i]] = Listb[i]\n",
    "\n",
    "print(hasil)\n"
   ]
  },
  {
   "cell_type": "code",
   "execution_count": 3,
   "id": "611b477b",
   "metadata": {},
   "outputs": [
    {
     "name": "stdout",
     "output_type": "stream",
     "text": [
      "Masukkan nama file: mbox-short.txt\n",
      "{'stephen.marquard@uct.ac.za': 2, 'louis@media.berkeley.edu': 3, 'zqian@umich.edu': 4, 'rjlowe@iupui.edu': 2, 'cwen@iupui.edu': 5, 'gsilver@umich.edu': 3, 'wagnermr@iupui.edu': 1, 'antranig@caret.cam.ac.uk': 1, 'gopal.ramasammycook@gmail.com': 1, 'david.horwitz@uct.ac.za': 4, 'ray@media.berkeley.edu': 1}\n"
     ]
    }
   ],
   "source": [
    "filename = input(\"Masukkan nama file: \")\n",
    "email_counts = {}\n",
    "\n",
    "with open(filename, 'r') as file:\n",
    "    for line in file:\n",
    "        if line.startswith('From '):\n",
    "            parts = line.split()\n",
    "            email = parts[1]\n",
    "            if email in email_counts:\n",
    "                email_counts[email] += 1\n",
    "            else:\n",
    "                email_counts[email] = 1\n",
    "\n",
    "print(email_counts)\n"
   ]
  },
  {
   "cell_type": "code",
   "execution_count": 4,
   "id": "13ddb834",
   "metadata": {},
   "outputs": [
    {
     "name": "stdout",
     "output_type": "stream",
     "text": [
      "Masukkan nama file: mbox-short.txt\n",
      "{'uct.ac.za': 6, 'media.berkeley.edu': 4, 'umich.edu': 7, 'iupui.edu': 8, 'caret.cam.ac.uk': 1, 'gmail.com': 1}\n"
     ]
    }
   ],
   "source": [
    "filename = input(\"Masukkan nama file: \")\n",
    "domain_counts = {}\n",
    "\n",
    "with open(filename, 'r') as file:\n",
    "    for line in file:\n",
    "        if line.startswith('From '):\n",
    "            parts = line.split()\n",
    "            email = parts[1]\n",
    "            domain = email.split('@')[1]\n",
    "            if domain in domain_counts:\n",
    "                domain_counts[domain] += 1\n",
    "            else:\n",
    "                domain_counts[domain] = 1\n",
    "\n",
    "print(domain_counts)\n"
   ]
  },
  {
   "cell_type": "code",
   "execution_count": null,
   "id": "37ed7561",
   "metadata": {},
   "outputs": [],
   "source": []
  }
 ],
 "metadata": {
  "kernelspec": {
   "display_name": "Python 3 (ipykernel)",
   "language": "python",
   "name": "python3"
  },
  "language_info": {
   "codemirror_mode": {
    "name": "ipython",
    "version": 3
   },
   "file_extension": ".py",
   "mimetype": "text/x-python",
   "name": "python",
   "nbconvert_exporter": "python",
   "pygments_lexer": "ipython3",
   "version": "3.11.5"
  }
 },
 "nbformat": 4,
 "nbformat_minor": 5
}
